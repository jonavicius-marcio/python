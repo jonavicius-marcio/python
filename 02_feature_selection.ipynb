{
 "cells": [
  {
   "attachments": {},
   "cell_type": "markdown",
   "id": "29ec32f8",
   "metadata": {},
   "source": [
    "# Feature selecition "
   ]
  },
  {
   "attachments": {},
   "cell_type": "markdown",
   "id": "5369c446",
   "metadata": {},
   "source": [
    "## Point-Biserial Correlation (continuos vs binary)"
   ]
  },
  {
   "attachments": {},
   "cell_type": "markdown",
   "id": "f24d0453",
   "metadata": {},
   "source": [
    "measure the strength and direction of the association that exists between one **continuous variable** and one **dichotomous variable**. \n",
    "\n",
    " you could use a point-biserial correlation to determine whether there is an association between salaries, measured in US dollars, and gender (i.e., your continuous variable would be \"salary\" and your dichotomous variable would be \"gender\", which has two categories: \"males\" and \"females\")"
   ]
  },
  {
   "attachments": {},
   "cell_type": "markdown",
   "id": "2a976840",
   "metadata": {},
   "source": [
    "Like other correlation coefficients, this one varies between -1 and +1 with 0 implying no correlation. Correlations of -1 or +1 imply a determinative relationship."
   ]
  },
  {
   "cell_type": "code",
   "execution_count": 14,
   "id": "a0c4bc83",
   "metadata": {},
   "outputs": [],
   "source": [
    "import pandas as pd\n",
    "import numpy as np\n",
    "from scipy import stats"
   ]
  },
  {
   "cell_type": "code",
   "execution_count": 12,
   "id": "517939e6",
   "metadata": {},
   "outputs": [],
   "source": [
    "data={'gender':[0, 1, 1, 0, 0, 0, 1, 0, 1, 1, 0],\n",
    "      'salary':[1200, 1400, 1700, 1700, 1100, 2200, 2300, 1100, 1900, 800, 1200]}\n",
    "df=pd.DataFrame(data)"
   ]
  },
  {
   "cell_type": "code",
   "execution_count": 13,
   "id": "d089699d",
   "metadata": {},
   "outputs": [],
   "source": [
    "continue_value = data['salary']\n",
    "binary_value = data['gender']"
   ]
  },
  {
   "cell_type": "code",
   "execution_count": 17,
   "id": "24785872",
   "metadata": {},
   "outputs": [
    {
     "data": {
      "text/plain": [
       "PointbiserialrResult(correlation=0.2181634545788746, pvalue=0.519284292877361)"
      ]
     },
     "execution_count": 17,
     "metadata": {},
     "output_type": "execute_result"
    }
   ],
   "source": [
    "stats.pointbiserialr(binary_value, continue_value)"
   ]
  },
  {
   "attachments": {},
   "cell_type": "markdown",
   "id": "42e11872",
   "metadata": {},
   "source": [
    "\n",
    "<span style=\"color:red\">Result</span>\n",
    "\n",
    "Since the p-value of this correlation is not less than .05, this correlation is not statistically significant. \n",
    "\n",
    "Since the correlation coefficient is positive, this indicates that when the variable x takes on the value “1” that the variable y tends to take on higher values compared to when the variable x takes on the value “0.”"
   ]
  },
  {
   "cell_type": "markdown",
   "id": "299faaef",
   "metadata": {},
   "source": [
    "https://en.wikipedia.org/wiki/Point-biserial_correlation_coefficient "
   ]
  },
  {
   "cell_type": "code",
   "execution_count": null,
   "id": "2fbfd409",
   "metadata": {},
   "outputs": [],
   "source": [
    "https://towardsdatascience.com/deep-dive-on-ml-techniques-for-feature-selection-in-python-part-1-3574269d5c69"
   ]
  },
  {
   "cell_type": "code",
   "execution_count": null,
   "id": "cded5af7",
   "metadata": {},
   "outputs": [],
   "source": [
    "https://www.kaggle.com/code/guoyiyang92/simple-feature-selection-categorical-continuous\n",
    "https://en.wikipedia.org/wiki/Correlation_coefficient\n",
    "https://github.com/otaviosanluz/medium/blob/main/Features-Constantes-QuaseConstantes/01-features-constants-quasiConstants.ipynb"
   ]
  }
 ],
 "metadata": {
  "kernelspec": {
   "display_name": "base",
   "language": "python",
   "name": "python3"
  },
  "language_info": {
   "codemirror_mode": {
    "name": "ipython",
    "version": 3
   },
   "file_extension": ".py",
   "mimetype": "text/x-python",
   "name": "python",
   "nbconvert_exporter": "python",
   "pygments_lexer": "ipython3",
   "version": "3.8.8"
  },
  "vscode": {
   "interpreter": {
    "hash": "9c218ef86ab8ce6caf09725770f21930b8ce9889d88f1722fcda4fd84da0abe2"
   }
  }
 },
 "nbformat": 4,
 "nbformat_minor": 5
}
