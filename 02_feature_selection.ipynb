{
 "cells": [
  {
   "attachments": {},
   "cell_type": "markdown",
   "id": "29ec32f8",
   "metadata": {},
   "source": [
    "# Feature selecition "
   ]
  },
  {
   "attachments": {},
   "cell_type": "markdown",
   "id": "5369c446",
   "metadata": {},
   "source": [
    "## Point-Biserial Correlation (continuos vs binary)"
   ]
  },
  {
   "attachments": {},
   "cell_type": "markdown",
   "id": "f24d0453",
   "metadata": {},
   "source": [
    "measure the strength and direction of the association that exists between one **continuous variable** and one **dichotomous variable**. \n",
    "\n",
    " you could use a point-biserial correlation to determine whether there is an association between salaries, measured in US dollars, and gender (i.e., your continuous variable would be \"salary\" and your dichotomous variable would be \"gender\", which has two categories: \"males\" and \"females\")"
   ]
  },
  {
   "attachments": {},
   "cell_type": "markdown",
   "id": "2a976840",
   "metadata": {},
   "source": [
    "Like other correlation coefficients, this one varies between -1 and +1 with 0 implying no correlation. Correlations of -1 or +1 imply a determinative relationship."
   ]
  },
  {
   "cell_type": "code",
   "execution_count": 3,
   "id": "a0c4bc83",
   "metadata": {},
   "outputs": [],
   "source": [
    "import pandas as pd\n",
    "import numpy as np\n",
    "from scipy import stats"
   ]
  },
  {
   "cell_type": "code",
   "execution_count": null,
   "id": "3aa4a4ed",
   "metadata": {},
   "outputs": [],
   "source": [
    "Salvar modelo \n",
    "https://acervolima.com/salvando-um-modelo-de-aprendizado-de-maquina/\n",
    "\n",
    "https://deepnote.com/@svpino/A-Scikit-Learn-Pipeline-9b41fc5c-3346-437c-813d-3147eff52a76"
   ]
  },
  {
   "cell_type": "code",
   "execution_count": null,
   "id": "5729e73c",
   "metadata": {},
   "outputs": [],
   "source": [
    "https://machinelearningmastery.com/feature-selection-with-real-and-categorical-data/\n",
    "https://machinelearningmastery.com/feature-selection-with-categorical-data/\n",
    "\n",
    "https://www.kaggle.com/code/sathianpong/feature-selection-guide-by-beginner/notebook"
   ]
  },
  {
   "cell_type": "code",
   "execution_count": 12,
   "id": "517939e6",
   "metadata": {},
   "outputs": [],
   "source": [
    "data={'gender':[0, 1, 1, 0, 0, 0, 1, 0, 1, 1, 0],\n",
    "      'salary':[1200, 1400, 1700, 1700, 1100, 2200, 2300, 1100, 1900, 800, 1200]}\n",
    "df=pd.DataFrame(data)"
   ]
  },
  {
   "cell_type": "code",
   "execution_count": 13,
   "id": "d089699d",
   "metadata": {},
   "outputs": [],
   "source": [
    "continue_value = data['salary']\n",
    "binary_value = data['gender']"
   ]
  },
  {
   "cell_type": "code",
   "execution_count": 17,
   "id": "24785872",
   "metadata": {},
   "outputs": [
    {
     "data": {
      "text/plain": [
       "PointbiserialrResult(correlation=0.2181634545788746, pvalue=0.519284292877361)"
      ]
     },
     "execution_count": 17,
     "metadata": {},
     "output_type": "execute_result"
    }
   ],
   "source": [
    "stats.pointbiserialr(binary_value, continue_value)"
   ]
  },
  {
   "attachments": {},
   "cell_type": "markdown",
   "id": "42e11872",
   "metadata": {},
   "source": [
    "\n",
    "<span style=\"color:red\">Result</span>\n",
    "\n",
    "Since the p-value of this correlation is not less than .05, this correlation is not statistically significant. \n",
    "\n",
    "Since the correlation coefficient is positive, this indicates that when the variable x takes on the value “1” that the variable y tends to take on higher values compared to when the variable x takes on the value “0.”"
   ]
  },
  {
   "cell_type": "markdown",
   "id": "299faaef",
   "metadata": {},
   "source": [
    "https://en.wikipedia.org/wiki/Point-biserial_correlation_coefficient "
   ]
  },
  {
   "cell_type": "code",
   "execution_count": null,
   "id": "2fbfd409",
   "metadata": {},
   "outputs": [],
   "source": [
    "https://towardsdatascience.com/deep-dive-on-ml-techniques-for-feature-selection-in-python-part-1-3574269d5c69"
   ]
  },
  {
   "cell_type": "code",
   "execution_count": null,
   "id": "cded5af7",
   "metadata": {},
   "outputs": [],
   "source": [
    "https://www.kaggle.com/code/guoyiyang92/simple-feature-selection-categorical-continuous\n",
    "https://en.wikipedia.org/wiki/Correlation_coefficient\n",
    "https://github.com/otaviosanluz/medium/blob/main/Features-Constantes-QuaseConstantes/01-features-constants-quasiConstants.ipynb"
   ]
  },
  {
   "cell_type": "code",
   "execution_count": null,
   "id": "5c051c1b",
   "metadata": {},
   "outputs": [],
   "source": []
  },
  {
   "attachments": {},
   "cell_type": "markdown",
   "id": "6915c9fb",
   "metadata": {},
   "source": [
    "Missing Input"
   ]
  },
  {
   "cell_type": "code",
   "execution_count": 1,
   "id": "a72674f9",
   "metadata": {},
   "outputs": [],
   "source": [
    "from numpy import array\n",
    "from numpy import argmax\n",
    "from sklearn.preprocessing import LabelEncoder\n",
    "from sklearn.preprocessing import OneHotEncoder\n"
   ]
  },
  {
   "cell_type": "code",
   "execution_count": null,
   "id": "d9886f74",
   "metadata": {},
   "outputs": [],
   "source": []
  },
  {
   "cell_type": "code",
   "execution_count": 3,
   "id": "0ea9a04c",
   "metadata": {},
   "outputs": [
    {
     "name": "stdout",
     "output_type": "stream",
     "text": [
      "['cold' 'cold' 'warm' 'cold' 'hot' 'hot' 'warm' 'cold' 'warm' 'hot']\n",
      "[0 0 2 0 1 1 2 0 2 1]\n",
      "[[1. 0. 0.]\n",
      " [1. 0. 0.]\n",
      " [0. 0. 1.]\n",
      " [1. 0. 0.]\n",
      " [0. 1. 0.]\n",
      " [0. 1. 0.]\n",
      " [0. 0. 1.]\n",
      " [1. 0. 0.]\n",
      " [0. 0. 1.]\n",
      " [0. 1. 0.]]\n",
      "['cold']\n"
     ]
    },
    {
     "name": "stderr",
     "output_type": "stream",
     "text": [
      "c:\\Users\\Marcio Rodrigues\\anaconda3\\lib\\site-packages\\sklearn\\preprocessing\\_encoders.py:808: FutureWarning: `sparse` was renamed to `sparse_output` in version 1.2 and will be removed in 1.4. `sparse_output` is ignored unless you leave `sparse` to its default value.\n",
      "  warnings.warn(\n"
     ]
    }
   ],
   "source": [
    "# define example\n",
    "data = ['cold', 'cold', 'warm', 'cold', 'hot', 'hot', 'warm', 'cold', 'warm', 'hot']\n",
    "values = array(data)\n",
    "print(values)\n",
    "# integer encode\n",
    "label_encoder = LabelEncoder()\n",
    "integer_encoded = label_encoder.fit_transform(values)\n",
    "print(integer_encoded)\n",
    "# binary encode\n",
    "onehot_encoder = OneHotEncoder(sparse=False)\n",
    "integer_encoded = integer_encoded.reshape(len(integer_encoded), 1)\n",
    "onehot_encoded = onehot_encoder.fit_transform(integer_encoded)\n",
    "print(onehot_encoded)\n",
    "# invert first example\n",
    "inverted = label_encoder.inverse_transform([argmax(onehot_encoded[0, :])])\n",
    "print(inverted)"
   ]
  },
  {
   "cell_type": "code",
   "execution_count": null,
   "id": "ddc7e527",
   "metadata": {},
   "outputs": [],
   "source": []
  },
  {
   "attachments": {},
   "cell_type": "markdown",
   "id": "887dd186",
   "metadata": {},
   "source": [
    "KNNImputer"
   ]
  },
  {
   "cell_type": "code",
   "execution_count": 1,
   "id": "2e06bb40",
   "metadata": {},
   "outputs": [],
   "source": [
    "from sklearn.impute import KNNImputer"
   ]
  },
  {
   "cell_type": "code",
   "execution_count": 2,
   "id": "c229d404",
   "metadata": {},
   "outputs": [],
   "source": [
    "import numpy as np\n",
    "import pandas as pd\n",
    "dict = {'First':[100, 90, np.nan, 95], \n",
    "        'Second': [30, 45, 56, np.nan], \n",
    "        'Third':[np.nan, 40, 80, 98]} \n",
    "  \n",
    "# creating a dataframe from list \n",
    "df = pd.DataFrame(dict)"
   ]
  },
  {
   "cell_type": "code",
   "execution_count": 3,
   "id": "a76119f9",
   "metadata": {},
   "outputs": [
    {
     "data": {
      "text/html": [
       "<div>\n",
       "<style scoped>\n",
       "    .dataframe tbody tr th:only-of-type {\n",
       "        vertical-align: middle;\n",
       "    }\n",
       "\n",
       "    .dataframe tbody tr th {\n",
       "        vertical-align: top;\n",
       "    }\n",
       "\n",
       "    .dataframe thead th {\n",
       "        text-align: right;\n",
       "    }\n",
       "</style>\n",
       "<table border=\"1\" class=\"dataframe\">\n",
       "  <thead>\n",
       "    <tr style=\"text-align: right;\">\n",
       "      <th></th>\n",
       "      <th>First</th>\n",
       "      <th>Second</th>\n",
       "      <th>Third</th>\n",
       "    </tr>\n",
       "  </thead>\n",
       "  <tbody>\n",
       "    <tr>\n",
       "      <th>0</th>\n",
       "      <td>100.0</td>\n",
       "      <td>30.0</td>\n",
       "      <td>NaN</td>\n",
       "    </tr>\n",
       "    <tr>\n",
       "      <th>1</th>\n",
       "      <td>90.0</td>\n",
       "      <td>45.0</td>\n",
       "      <td>40.0</td>\n",
       "    </tr>\n",
       "    <tr>\n",
       "      <th>2</th>\n",
       "      <td>NaN</td>\n",
       "      <td>56.0</td>\n",
       "      <td>80.0</td>\n",
       "    </tr>\n",
       "    <tr>\n",
       "      <th>3</th>\n",
       "      <td>95.0</td>\n",
       "      <td>NaN</td>\n",
       "      <td>98.0</td>\n",
       "    </tr>\n",
       "  </tbody>\n",
       "</table>\n",
       "</div>"
      ],
      "text/plain": [
       "   First  Second  Third\n",
       "0  100.0    30.0    NaN\n",
       "1   90.0    45.0   40.0\n",
       "2    NaN    56.0   80.0\n",
       "3   95.0     NaN   98.0"
      ]
     },
     "execution_count": 3,
     "metadata": {},
     "output_type": "execute_result"
    }
   ],
   "source": [
    "df"
   ]
  },
  {
   "attachments": {},
   "cell_type": "markdown",
   "id": "eea054ab",
   "metadata": {},
   "source": [
    "You can define your own n_neighbors value (as its typical of KNN algorithm)."
   ]
  },
  {
   "cell_type": "code",
   "execution_count": 4,
   "id": "74bd8b3c",
   "metadata": {},
   "outputs": [],
   "source": [
    "imputer = KNNImputer(n_neighbors=2)"
   ]
  },
  {
   "cell_type": "code",
   "execution_count": 5,
   "id": "6d921de6",
   "metadata": {},
   "outputs": [],
   "source": [
    "df_filled = imputer.fit_transform(df)"
   ]
  },
  {
   "cell_type": "code",
   "execution_count": 7,
   "id": "b7063ffc",
   "metadata": {},
   "outputs": [
    {
     "data": {
      "text/plain": [
       "array([[100. ,  30. ,  69. ],\n",
       "       [ 90. ,  45. ,  40. ],\n",
       "       [ 97.5,  56. ,  80. ],\n",
       "       [ 95. ,  43. ,  98. ]])"
      ]
     },
     "execution_count": 7,
     "metadata": {},
     "output_type": "execute_result"
    }
   ],
   "source": [
    "df_filled"
   ]
  },
  {
   "cell_type": "code",
   "execution_count": 9,
   "id": "ea0caec7",
   "metadata": {},
   "outputs": [
    {
     "data": {
      "text/plain": [
       "array([[100. ,  30. ,  69. ],\n",
       "       [ 90. ,  45. ,  40. ],\n",
       "       [ 97.5,  56. ,  80. ],\n",
       "       [ 95. ,  43. ,  98. ]])"
      ]
     },
     "execution_count": 9,
     "metadata": {},
     "output_type": "execute_result"
    }
   ],
   "source": [
    "df_filled"
   ]
  },
  {
   "cell_type": "code",
   "execution_count": 14,
   "id": "7b896a94",
   "metadata": {},
   "outputs": [],
   "source": [
    "tes = df_filled[0:1]"
   ]
  },
  {
   "cell_type": "code",
   "execution_count": 15,
   "metadata": {},
   "outputs": [
    {
     "data": {
      "text/plain": [
       "array([[100.,  30.,  69.]])"
      ]
     },
     "execution_count": 15,
     "metadata": {},
     "output_type": "execute_result"
    }
   ],
   "source": [
    "tes"
   ]
  },
  {
   "cell_type": "code",
   "execution_count": 22,
   "id": "9312abd9",
   "metadata": {},
   "outputs": [
    {
     "ename": "AttributeError",
     "evalue": "'numpy.ndarray' object has no attribute 'to_numpy'",
     "output_type": "error",
     "traceback": [
      "\u001b[1;31m---------------------------------------------------------------------------\u001b[0m",
      "\u001b[1;31mAttributeError\u001b[0m                            Traceback (most recent call last)",
      "\u001b[1;32m<ipython-input-22-c4430b14d695>\u001b[0m in \u001b[0;36m<module>\u001b[1;34m\u001b[0m\n\u001b[1;32m----> 1\u001b[1;33m \u001b[0mtes\u001b[0m\u001b[1;33m.\u001b[0m\u001b[0mto_numpy\u001b[0m\u001b[1;33m(\u001b[0m\u001b[1;33m)\u001b[0m\u001b[1;33m\u001b[0m\u001b[1;33m\u001b[0m\u001b[0m\n\u001b[0m",
      "\u001b[1;31mAttributeError\u001b[0m: 'numpy.ndarray' object has no attribute 'to_numpy'"
     ]
    }
   ],
   "source": [
    "tes"
   ]
  },
  {
   "cell_type": "code",
   "execution_count": 20,
   "id": "25d7b83e",
   "metadata": {},
   "outputs": [
    {
     "data": {
      "text/plain": [
       "array([[100.],\n",
       "       [ 30.],\n",
       "       [ 69.]])"
      ]
     },
     "execution_count": 20,
     "metadata": {},
     "output_type": "execute_result"
    }
   ],
   "source": [
    "tes.reshape(-1, 1)"
   ]
  },
  {
   "cell_type": "code",
   "execution_count": 12,
   "id": "ec670d50",
   "metadata": {},
   "outputs": [
    {
     "data": {
      "text/plain": [
       "array([[100. ,  30. ,  69. ],\n",
       "       [ 90. ,  45. ,  40. ],\n",
       "       [ 97.5,  56. ,  80. ],\n",
       "       [ 95. ,  43. ,  98. ]])"
      ]
     },
     "execution_count": 12,
     "metadata": {},
     "output_type": "execute_result"
    }
   ],
   "source": [
    "df_filled"
   ]
  },
  {
   "cell_type": "code",
   "execution_count": 1,
   "id": "89d78392",
   "metadata": {},
   "outputs": [],
   "source": [
    "from sklearn.impute import KNNImputer"
   ]
  },
  {
   "cell_type": "code",
   "execution_count": 4,
   "id": "b60e2a1e",
   "metadata": {},
   "outputs": [],
   "source": [
    "train = pd.read_csv(\"data/census - Copy.csv\")"
   ]
  },
  {
   "cell_type": "code",
   "execution_count": 5,
   "id": "82f8e46e",
   "metadata": {},
   "outputs": [],
   "source": [
    "imputer = KNNImputer(n_neighbors=3)"
   ]
  },
  {
   "cell_type": "code",
   "execution_count": 6,
   "id": "9854dfea",
   "metadata": {},
   "outputs": [],
   "source": [
    "var = train['age'].to_numpy()"
   ]
  },
  {
   "cell_type": "code",
   "execution_count": 7,
   "id": "14bcfe01",
   "metadata": {},
   "outputs": [],
   "source": [
    "var = var.reshape(-1, 1)"
   ]
  },
  {
   "cell_type": "code",
   "execution_count": 8,
   "id": "dccbc0d7",
   "metadata": {},
   "outputs": [],
   "source": [
    "fille = imputer.fit_transform(var)"
   ]
  },
  {
   "cell_type": "code",
   "execution_count": 9,
   "id": "746c50f2",
   "metadata": {},
   "outputs": [],
   "source": [
    "train['age_2'] = fille"
   ]
  },
  {
   "cell_type": "code",
   "execution_count": 10,
   "id": "0c0828b1",
   "metadata": {},
   "outputs": [
    {
     "data": {
      "text/html": [
       "<div>\n",
       "<style scoped>\n",
       "    .dataframe tbody tr th:only-of-type {\n",
       "        vertical-align: middle;\n",
       "    }\n",
       "\n",
       "    .dataframe tbody tr th {\n",
       "        vertical-align: top;\n",
       "    }\n",
       "\n",
       "    .dataframe thead th {\n",
       "        text-align: right;\n",
       "    }\n",
       "</style>\n",
       "<table border=\"1\" class=\"dataframe\">\n",
       "  <thead>\n",
       "    <tr style=\"text-align: right;\">\n",
       "      <th></th>\n",
       "      <th>age</th>\n",
       "      <th>workclass</th>\n",
       "      <th>final-weight</th>\n",
       "      <th>education</th>\n",
       "      <th>education-num</th>\n",
       "      <th>marital-status</th>\n",
       "      <th>occupation</th>\n",
       "      <th>relationship</th>\n",
       "      <th>race</th>\n",
       "      <th>sex</th>\n",
       "      <th>capital-gain</th>\n",
       "      <th>capital-loos</th>\n",
       "      <th>hour-per-week</th>\n",
       "      <th>native-country</th>\n",
       "      <th>income</th>\n",
       "      <th>age_2</th>\n",
       "    </tr>\n",
       "  </thead>\n",
       "  <tbody>\n",
       "    <tr>\n",
       "      <th>0</th>\n",
       "      <td>39.0</td>\n",
       "      <td>State-gov</td>\n",
       "      <td>77516</td>\n",
       "      <td>Bachelors</td>\n",
       "      <td>13</td>\n",
       "      <td>Never-married</td>\n",
       "      <td>Adm-clerical</td>\n",
       "      <td>Not-in-family</td>\n",
       "      <td>White</td>\n",
       "      <td>Male</td>\n",
       "      <td>2174</td>\n",
       "      <td>0</td>\n",
       "      <td>40</td>\n",
       "      <td>United-States</td>\n",
       "      <td>&lt;=50K</td>\n",
       "      <td>39.000000</td>\n",
       "    </tr>\n",
       "    <tr>\n",
       "      <th>1</th>\n",
       "      <td>50.0</td>\n",
       "      <td>Self-emp-not-inc</td>\n",
       "      <td>83311</td>\n",
       "      <td>Bachelors</td>\n",
       "      <td>13</td>\n",
       "      <td>Married-civ-spouse</td>\n",
       "      <td>Exec-managerial</td>\n",
       "      <td>Husband</td>\n",
       "      <td>White</td>\n",
       "      <td>Male</td>\n",
       "      <td>0</td>\n",
       "      <td>0</td>\n",
       "      <td>13</td>\n",
       "      <td>United-States</td>\n",
       "      <td>&lt;=50K</td>\n",
       "      <td>50.000000</td>\n",
       "    </tr>\n",
       "    <tr>\n",
       "      <th>2</th>\n",
       "      <td>38.0</td>\n",
       "      <td>Private</td>\n",
       "      <td>215646</td>\n",
       "      <td>HS-grad</td>\n",
       "      <td>9</td>\n",
       "      <td>Divorced</td>\n",
       "      <td>Handlers-cleaners</td>\n",
       "      <td>Not-in-family</td>\n",
       "      <td>White</td>\n",
       "      <td>Male</td>\n",
       "      <td>0</td>\n",
       "      <td>0</td>\n",
       "      <td>40</td>\n",
       "      <td>United-States</td>\n",
       "      <td>&lt;=50K</td>\n",
       "      <td>38.000000</td>\n",
       "    </tr>\n",
       "    <tr>\n",
       "      <th>3</th>\n",
       "      <td>NaN</td>\n",
       "      <td>Private</td>\n",
       "      <td>234721</td>\n",
       "      <td>11th</td>\n",
       "      <td>7</td>\n",
       "      <td>Married-civ-spouse</td>\n",
       "      <td>Handlers-cleaners</td>\n",
       "      <td>Husband</td>\n",
       "      <td>Black</td>\n",
       "      <td>Male</td>\n",
       "      <td>0</td>\n",
       "      <td>0</td>\n",
       "      <td>40</td>\n",
       "      <td>United-States</td>\n",
       "      <td>&lt;=50K</td>\n",
       "      <td>38.411765</td>\n",
       "    </tr>\n",
       "    <tr>\n",
       "      <th>4</th>\n",
       "      <td>28.0</td>\n",
       "      <td>Private</td>\n",
       "      <td>338409</td>\n",
       "      <td>Bachelors</td>\n",
       "      <td>13</td>\n",
       "      <td>Married-civ-spouse</td>\n",
       "      <td>Prof-specialty</td>\n",
       "      <td>Wife</td>\n",
       "      <td>Black</td>\n",
       "      <td>Female</td>\n",
       "      <td>0</td>\n",
       "      <td>0</td>\n",
       "      <td>40</td>\n",
       "      <td>Cuba</td>\n",
       "      <td>&lt;=50K</td>\n",
       "      <td>28.000000</td>\n",
       "    </tr>\n",
       "  </tbody>\n",
       "</table>\n",
       "</div>"
      ],
      "text/plain": [
       "    age          workclass  final-weight   education  education-num  \\\n",
       "0  39.0          State-gov         77516   Bachelors             13   \n",
       "1  50.0   Self-emp-not-inc         83311   Bachelors             13   \n",
       "2  38.0            Private        215646     HS-grad              9   \n",
       "3   NaN            Private        234721        11th              7   \n",
       "4  28.0            Private        338409   Bachelors             13   \n",
       "\n",
       "        marital-status          occupation    relationship    race      sex  \\\n",
       "0        Never-married        Adm-clerical   Not-in-family   White     Male   \n",
       "1   Married-civ-spouse     Exec-managerial         Husband   White     Male   \n",
       "2             Divorced   Handlers-cleaners   Not-in-family   White     Male   \n",
       "3   Married-civ-spouse   Handlers-cleaners         Husband   Black     Male   \n",
       "4   Married-civ-spouse      Prof-specialty            Wife   Black   Female   \n",
       "\n",
       "   capital-gain  capital-loos  hour-per-week  native-country  income  \\\n",
       "0          2174             0             40   United-States   <=50K   \n",
       "1             0             0             13   United-States   <=50K   \n",
       "2             0             0             40   United-States   <=50K   \n",
       "3             0             0             40   United-States   <=50K   \n",
       "4             0             0             40            Cuba   <=50K   \n",
       "\n",
       "       age_2  \n",
       "0  39.000000  \n",
       "1  50.000000  \n",
       "2  38.000000  \n",
       "3  38.411765  \n",
       "4  28.000000  "
      ]
     },
     "execution_count": 10,
     "metadata": {},
     "output_type": "execute_result"
    }
   ],
   "source": [
    "train.head()"
   ]
  },
  {
   "cell_type": "code",
   "execution_count": 12,
   "id": "c0095e74",
   "metadata": {},
   "outputs": [
    {
     "data": {
      "text/html": [
       "<div>\n",
       "<style scoped>\n",
       "    .dataframe tbody tr th:only-of-type {\n",
       "        vertical-align: middle;\n",
       "    }\n",
       "\n",
       "    .dataframe tbody tr th {\n",
       "        vertical-align: top;\n",
       "    }\n",
       "\n",
       "    .dataframe thead th {\n",
       "        text-align: right;\n",
       "    }\n",
       "</style>\n",
       "<table border=\"1\" class=\"dataframe\">\n",
       "  <thead>\n",
       "    <tr style=\"text-align: right;\">\n",
       "      <th></th>\n",
       "      <th>age</th>\n",
       "      <th>workclass</th>\n",
       "      <th>final-weight</th>\n",
       "      <th>education</th>\n",
       "      <th>education-num</th>\n",
       "      <th>marital-status</th>\n",
       "      <th>occupation</th>\n",
       "      <th>relationship</th>\n",
       "      <th>race</th>\n",
       "      <th>sex</th>\n",
       "      <th>capital-gain</th>\n",
       "      <th>capital-loos</th>\n",
       "      <th>hour-per-week</th>\n",
       "      <th>native-country</th>\n",
       "      <th>income</th>\n",
       "      <th>age_2</th>\n",
       "    </tr>\n",
       "  </thead>\n",
       "  <tbody>\n",
       "    <tr>\n",
       "      <th>3</th>\n",
       "      <td>NaN</td>\n",
       "      <td>Private</td>\n",
       "      <td>234721</td>\n",
       "      <td>11th</td>\n",
       "      <td>7</td>\n",
       "      <td>Married-civ-spouse</td>\n",
       "      <td>Handlers-cleaners</td>\n",
       "      <td>Husband</td>\n",
       "      <td>Black</td>\n",
       "      <td>Male</td>\n",
       "      <td>0</td>\n",
       "      <td>0</td>\n",
       "      <td>40</td>\n",
       "      <td>United-States</td>\n",
       "      <td>&lt;=50K</td>\n",
       "      <td>38.411765</td>\n",
       "    </tr>\n",
       "    <tr>\n",
       "      <th>5</th>\n",
       "      <td>NaN</td>\n",
       "      <td>Private</td>\n",
       "      <td>284582</td>\n",
       "      <td>Masters</td>\n",
       "      <td>14</td>\n",
       "      <td>Married-civ-spouse</td>\n",
       "      <td>Exec-managerial</td>\n",
       "      <td>Wife</td>\n",
       "      <td>White</td>\n",
       "      <td>Female</td>\n",
       "      <td>0</td>\n",
       "      <td>0</td>\n",
       "      <td>40</td>\n",
       "      <td>United-States</td>\n",
       "      <td>&lt;=50K</td>\n",
       "      <td>38.411765</td>\n",
       "    </tr>\n",
       "    <tr>\n",
       "      <th>25</th>\n",
       "      <td>NaN</td>\n",
       "      <td>Local-gov</td>\n",
       "      <td>216851</td>\n",
       "      <td>Bachelors</td>\n",
       "      <td>13</td>\n",
       "      <td>Married-civ-spouse</td>\n",
       "      <td>Tech-support</td>\n",
       "      <td>Husband</td>\n",
       "      <td>White</td>\n",
       "      <td>Male</td>\n",
       "      <td>0</td>\n",
       "      <td>0</td>\n",
       "      <td>40</td>\n",
       "      <td>United-States</td>\n",
       "      <td>&gt;50K</td>\n",
       "      <td>38.411765</td>\n",
       "    </tr>\n",
       "    <tr>\n",
       "      <th>26</th>\n",
       "      <td>NaN</td>\n",
       "      <td>Private</td>\n",
       "      <td>168294</td>\n",
       "      <td>HS-grad</td>\n",
       "      <td>9</td>\n",
       "      <td>Never-married</td>\n",
       "      <td>Craft-repair</td>\n",
       "      <td>Own-child</td>\n",
       "      <td>White</td>\n",
       "      <td>Male</td>\n",
       "      <td>0</td>\n",
       "      <td>0</td>\n",
       "      <td>40</td>\n",
       "      <td>United-States</td>\n",
       "      <td>&lt;=50K</td>\n",
       "      <td>38.411765</td>\n",
       "    </tr>\n",
       "    <tr>\n",
       "      <th>27</th>\n",
       "      <td>NaN</td>\n",
       "      <td>?</td>\n",
       "      <td>180211</td>\n",
       "      <td>Some-college</td>\n",
       "      <td>10</td>\n",
       "      <td>Married-civ-spouse</td>\n",
       "      <td>?</td>\n",
       "      <td>Husband</td>\n",
       "      <td>Asian-Pac-Islander</td>\n",
       "      <td>Male</td>\n",
       "      <td>0</td>\n",
       "      <td>0</td>\n",
       "      <td>60</td>\n",
       "      <td>South</td>\n",
       "      <td>&gt;50K</td>\n",
       "      <td>38.411765</td>\n",
       "    </tr>\n",
       "  </tbody>\n",
       "</table>\n",
       "</div>"
      ],
      "text/plain": [
       "    age   workclass  final-weight      education  education-num  \\\n",
       "3   NaN     Private        234721           11th              7   \n",
       "5   NaN     Private        284582        Masters             14   \n",
       "25  NaN   Local-gov        216851      Bachelors             13   \n",
       "26  NaN     Private        168294        HS-grad              9   \n",
       "27  NaN           ?        180211   Some-college             10   \n",
       "\n",
       "         marital-status          occupation relationship                 race  \\\n",
       "3    Married-civ-spouse   Handlers-cleaners      Husband                Black   \n",
       "5    Married-civ-spouse     Exec-managerial         Wife                White   \n",
       "25   Married-civ-spouse        Tech-support      Husband                White   \n",
       "26        Never-married        Craft-repair    Own-child                White   \n",
       "27   Married-civ-spouse                   ?      Husband   Asian-Pac-Islander   \n",
       "\n",
       "        sex  capital-gain  capital-loos  hour-per-week  native-country  \\\n",
       "3      Male             0             0             40   United-States   \n",
       "5    Female             0             0             40   United-States   \n",
       "25     Male             0             0             40   United-States   \n",
       "26     Male             0             0             40   United-States   \n",
       "27     Male             0             0             60           South   \n",
       "\n",
       "    income      age_2  \n",
       "3    <=50K  38.411765  \n",
       "5    <=50K  38.411765  \n",
       "25    >50K  38.411765  \n",
       "26   <=50K  38.411765  \n",
       "27    >50K  38.411765  "
      ]
     },
     "execution_count": 12,
     "metadata": {},
     "output_type": "execute_result"
    }
   ],
   "source": [
    "train[train['age'].isna()].head()"
   ]
  },
  {
   "cell_type": "code",
   "execution_count": null,
   "id": "73421dd6",
   "metadata": {},
   "outputs": [],
   "source": []
  },
  {
   "cell_type": "code",
   "execution_count": 52,
   "id": "bb61d114",
   "metadata": {},
   "outputs": [],
   "source": [
    "feature_store =  pd.read_parquet(\"data/feature_bogota.parquet\")"
   ]
  },
  {
   "cell_type": "code",
   "execution_count": 53,
   "id": "b4671489",
   "metadata": {},
   "outputs": [
    {
     "data": {
      "text/plain": [
       "8543"
      ]
     },
     "execution_count": 53,
     "metadata": {},
     "output_type": "execute_result"
    }
   ],
   "source": [
    "len(feature_store)"
   ]
  },
  {
   "cell_type": "code",
   "execution_count": 54,
   "id": "68d9eac2",
   "metadata": {},
   "outputs": [],
   "source": [
    "var = feature_store['average_rating'].to_numpy()"
   ]
  },
  {
   "cell_type": "code",
   "execution_count": 55,
   "id": "4b464e04",
   "metadata": {},
   "outputs": [],
   "source": [
    "var = var.reshape(-1, 1)"
   ]
  },
  {
   "cell_type": "code",
   "execution_count": 56,
   "id": "2b3a841b",
   "metadata": {},
   "outputs": [],
   "source": [
    "imputer = KNNImputer(n_neighbors=5)"
   ]
  },
  {
   "cell_type": "code",
   "execution_count": 57,
   "id": "52c929b9",
   "metadata": {},
   "outputs": [],
   "source": [
    "fille = imputer.fit_transform(var)"
   ]
  },
  {
   "cell_type": "code",
   "execution_count": null,
   "id": "93b3670b",
   "metadata": {},
   "outputs": [],
   "source": [
    "https://medium.com/@ning.jia/5-approaches-to-impute-missing-data-in-time-series-d6c75227819b"
   ]
  }
 ],
 "metadata": {
  "kernelspec": {
   "display_name": "base",
   "language": "python",
   "name": "python3"
  },
  "language_info": {
   "codemirror_mode": {
    "name": "ipython",
    "version": 3
   },
   "file_extension": ".py",
   "mimetype": "text/x-python",
   "name": "python",
   "nbconvert_exporter": "python",
   "pygments_lexer": "ipython3",
   "version": "3.8.8"
  },
  "vscode": {
   "interpreter": {
    "hash": "9c218ef86ab8ce6caf09725770f21930b8ce9889d88f1722fcda4fd84da0abe2"
   }
  }
 },
 "nbformat": 4,
 "nbformat_minor": 5
}
